{
 "cells": [
  {
   "cell_type": "markdown",
   "id": "municipal-cambodia",
   "metadata": {},
   "source": [
    "# SHAP VALUES"
   ]
  },
  {
   "cell_type": "code",
   "execution_count": 19,
   "id": "still-miniature",
   "metadata": {
    "hide_input": false
   },
   "outputs": [],
   "source": [
    "# general sys modules / libraries\n",
    "import sys\n",
    "import warnings  \n",
    "warnings.filterwarnings('ignore') \n",
    "\n",
    "# data analysis and visualisation modules / libraries\n",
    "import numpy as np\n",
    "from numpy import loadtxt\n",
    "\n",
    "import pandas as pd\n",
    "\n",
    "import matplotlib as mpl\n",
    "import matplotlib.pyplot as plt\n",
    "import matplotlib.ticker as mtick\n",
    "from matplotlib.ticker import PercentFormatter\n",
    "\n",
    "\n",
    "import seaborn as sns\n",
    "\n",
    "import scipy.stats as scs\n",
    "from scipy import stats\n",
    "\n",
    "# machine learning modules / libraries\n",
    "import xgboost as xgb\n",
    "from xgboost import plot_importance\n",
    "from xgboost import XGBClassifier\n",
    "from xgboost import XGBRegressor\n",
    "\n",
    "from imblearn.over_sampling import RandomOverSampler\n",
    "\n",
    "import sklearn\n",
    "from sklearn.dummy import DummyClassifier\n",
    "from sklearn.metrics import mean_squared_error\n",
    "from sklearn.metrics import accuracy_score\n",
    "from sklearn.model_selection import cross_validate\n",
    "from sklearn.model_selection import GridSearchCV\n",
    "from sklearn.model_selection import train_test_split"
   ]
  },
  {
   "cell_type": "code",
   "execution_count": 20,
   "id": "covered-grass",
   "metadata": {
    "hide_input": false,
    "scrolled": false
   },
   "outputs": [],
   "source": [
    "# Read dataset\n",
    "data = 'datasets/train_model.csv'\n",
    "train_model= pd.read_csv(data)\n",
    "\n",
    "data = 'datasets/train_binary.csv'\n",
    "train_binary= pd.read_csv(data)"
   ]
  },
  {
   "cell_type": "markdown",
   "id": "finnish-athletics",
   "metadata": {
    "hide_input": false
   },
   "source": [
    "# SHAP based on Model Data"
   ]
  },
  {
   "cell_type": "code",
   "execution_count": 21,
   "id": "sunset-mistake",
   "metadata": {
    "hide_input": false,
    "scrolled": false
   },
   "outputs": [],
   "source": [
    "import xgboost\n",
    "import shap\n",
    "\n",
    "# train an XGBoost model\n",
    "X = train_model.drop(['target'], axis=1)\n",
    "y = train_model['target']"
   ]
  },
  {
   "cell_type": "code",
   "execution_count": 22,
   "id": "steady-recall",
   "metadata": {},
   "outputs": [],
   "source": [
    "os = RandomOverSampler(sampling_strategy=1)"
   ]
  },
  {
   "cell_type": "code",
   "execution_count": 23,
   "id": "explicit-semiconductor",
   "metadata": {},
   "outputs": [],
   "source": [
    "X_train, y_train = os.fit_resample(X,y)"
   ]
  },
  {
   "cell_type": "code",
   "execution_count": 24,
   "id": "cubic-pioneer",
   "metadata": {
    "hide_input": false,
    "scrolled": false
   },
   "outputs": [
    {
     "name": "stdout",
     "output_type": "stream",
     "text": [
      "[17:00:30] WARNING: /Users/travis/build/dmlc/xgboost/src/learner.cc:1095: Starting in XGBoost 1.3.0, the default evaluation metric used with the objective 'binary:logistic' was changed from 'error' to 'logloss'. Explicitly set eval_metric if you'd like to restore the old behavior.\n"
     ]
    }
   ],
   "source": [
    "model = xgboost.XGBClassifier(learning_rate=0.1, \n",
    "                max_depth=3,\n",
    "                min_child_weight=3).fit(X, y)\n",
    "\n",
    "# showing the accuracy of the model\n",
    "score = model.score(X, y)  \n",
    "#print(\"Accuracy: %.2f%%\" % (score* 100.0))\n",
    "\n",
    "# explain the model's predictions using SHAP\n",
    "explainer = shap.Explainer(model)\n",
    "shap_values = explainer(X)\n"
   ]
  },
  {
   "cell_type": "code",
   "execution_count": 36,
   "id": "mental-tourist",
   "metadata": {
    "hide_input": false,
    "scrolled": false
   },
   "outputs": [],
   "source": [
    "#shap.summary_plot(shap_values, X, plot_type=\"bar\")"
   ]
  },
  {
   "cell_type": "code",
   "execution_count": 35,
   "id": "attended-shareware",
   "metadata": {
    "hide_input": false,
    "scrolled": false
   },
   "outputs": [],
   "source": [
    "# summarize the effects of all the features for unspecified target\n",
    "#shap.summary_plot(shap_values, X)"
   ]
  },
  {
   "cell_type": "markdown",
   "id": "convertible-syndication",
   "metadata": {
    "hide_input": false
   },
   "source": [
    "# SHAP based on Binary Model Data\n",
    "\n",
    "for variables 'city development index' and 'training hours'"
   ]
  },
  {
   "cell_type": "code",
   "execution_count": 27,
   "id": "optional-indicator",
   "metadata": {},
   "outputs": [],
   "source": [
    "# Read dataset\n",
    "data = 'datasets/train_binary.csv'\n",
    "train_binary= pd.read_csv(data)"
   ]
  },
  {
   "cell_type": "code",
   "execution_count": 28,
   "id": "gorgeous-accordance",
   "metadata": {
    "hide_input": false,
    "scrolled": false
   },
   "outputs": [],
   "source": [
    "import xgboost\n",
    "import shap\n",
    "\n",
    "# train an XGBoost model\n",
    "X = train_binary.drop(['target'], axis=1)\n",
    "y = train_binary['target']"
   ]
  },
  {
   "cell_type": "code",
   "execution_count": 29,
   "id": "freelance-medicaid",
   "metadata": {},
   "outputs": [],
   "source": [
    "os = RandomOverSampler(sampling_strategy=1)"
   ]
  },
  {
   "cell_type": "code",
   "execution_count": 30,
   "id": "taken-crash",
   "metadata": {},
   "outputs": [],
   "source": [
    "X_train, y_train = os.fit_resample(X,y)"
   ]
  },
  {
   "cell_type": "code",
   "execution_count": 31,
   "id": "romantic-senator",
   "metadata": {
    "hide_input": false,
    "scrolled": false
   },
   "outputs": [
    {
     "name": "stdout",
     "output_type": "stream",
     "text": [
      "[17:00:46] WARNING: /Users/travis/build/dmlc/xgboost/src/learner.cc:1095: Starting in XGBoost 1.3.0, the default evaluation metric used with the objective 'binary:logistic' was changed from 'error' to 'logloss'. Explicitly set eval_metric if you'd like to restore the old behavior.\n"
     ]
    }
   ],
   "source": [
    "model = xgboost.XGBClassifier(learning_rate=0.1, \n",
    "                max_depth=3,\n",
    "                min_child_weight=3).fit(X, y)\n",
    "\n",
    "# showing the accuracy of the model\n",
    "score = model.score(X, y)  \n",
    "#print(\"Accuracy: %.2f%%\" % (score* 100.0))\n",
    "\n",
    "# explain the model's predictions using SHAP\n",
    "explainer = shap.Explainer(model)\n",
    "shap_values_binary = explainer(X)\n"
   ]
  },
  {
   "cell_type": "code",
   "execution_count": 32,
   "id": "searching-psychology",
   "metadata": {
    "hide_input": false,
    "scrolled": false
   },
   "outputs": [],
   "source": [
    "# Showing the SHAP value summary plot\n",
    "\n",
    "def shap_summary_bar():\n",
    "    shap.summary_plot(shap_values_binary, X, plot_type=\"bar\")"
   ]
  },
  {
   "cell_type": "code",
   "execution_count": 37,
   "id": "stainless-desire",
   "metadata": {},
   "outputs": [],
   "source": [
    "#shap_summary_bar()"
   ]
  },
  {
   "cell_type": "code",
   "execution_count": 16,
   "id": "closed-dictionary",
   "metadata": {
    "hide_input": false,
    "scrolled": false
   },
   "outputs": [],
   "source": [
    "# summarize the effects of all the features for unspecified target\n",
    "\n",
    "def shap_pos_neg():\n",
    "    shap.summary_plot(shap_values_binary, X)"
   ]
  },
  {
   "cell_type": "code",
   "execution_count": 39,
   "id": "rising-senegal",
   "metadata": {
    "scrolled": false
   },
   "outputs": [],
   "source": [
    "#shap_pos_neg()"
   ]
  },
  {
   "cell_type": "code",
   "execution_count": null,
   "id": "eligible-boutique",
   "metadata": {},
   "outputs": [],
   "source": []
  }
 ],
 "metadata": {
  "hide_input": false,
  "kernelspec": {
   "display_name": "Python 3",
   "language": "python",
   "name": "python3"
  },
  "language_info": {
   "codemirror_mode": {
    "name": "ipython",
    "version": 3
   },
   "file_extension": ".py",
   "mimetype": "text/x-python",
   "name": "python",
   "nbconvert_exporter": "python",
   "pygments_lexer": "ipython3",
   "version": "3.9.2"
  },
  "toc": {
   "base_numbering": 1,
   "nav_menu": {},
   "number_sections": true,
   "sideBar": true,
   "skip_h1_title": false,
   "title_cell": "Table of Contents",
   "title_sidebar": "Contents",
   "toc_cell": false,
   "toc_position": {},
   "toc_section_display": true,
   "toc_window_display": false
  },
  "varInspector": {
   "cols": {
    "lenName": 16,
    "lenType": 16,
    "lenVar": 40
   },
   "kernels_config": {
    "python": {
     "delete_cmd_postfix": "",
     "delete_cmd_prefix": "del ",
     "library": "var_list.py",
     "varRefreshCmd": "print(var_dic_list())"
    },
    "r": {
     "delete_cmd_postfix": ") ",
     "delete_cmd_prefix": "rm(",
     "library": "var_list.r",
     "varRefreshCmd": "cat(var_dic_list()) "
    }
   },
   "oldHeight": 201,
   "position": {
    "height": "223px",
    "left": "789px",
    "right": "20px",
    "top": "130px",
    "width": "563px"
   },
   "types_to_exclude": [
    "module",
    "function",
    "builtin_function_or_method",
    "instance",
    "_Feature"
   ],
   "varInspector_section_display": "block",
   "window_display": false
  }
 },
 "nbformat": 4,
 "nbformat_minor": 5
}
