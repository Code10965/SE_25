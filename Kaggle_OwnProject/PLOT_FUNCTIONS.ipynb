{
 "cells": [
  {
   "cell_type": "markdown",
   "id": "funny-stockholm",
   "metadata": {},
   "source": [
    "# PLOT FUNCTIONS"
   ]
  },
  {
   "cell_type": "code",
   "execution_count": 2,
   "id": "still-miniature",
   "metadata": {},
   "outputs": [],
   "source": [
    "import numpy as np\n",
    "import pandas as pd\n",
    "import matplotlib as mpl\n",
    "import matplotlib.pyplot as plt\n",
    "import matplotlib.ticker as mtick\n",
    "from matplotlib.ticker import PercentFormatter\n",
    "import seaborn as sns\n",
    "import sklearn as sklearn\n",
    "from scipy import stats\n",
    "import xgboost as xgb"
   ]
  },
  {
   "cell_type": "code",
   "execution_count": 3,
   "id": "focused-magic",
   "metadata": {},
   "outputs": [],
   "source": [
    "# Colors to use\n",
    "# for one variable with two / many categories: blue ='#3B89F3'\n",
    "# for two categories: red ='#E93356'// blue ='#3B89F3'\n",
    "# for multiple categories: red ='#E93356'// blue ='#3B89F3' // yellow = '#ffdd00' // green ='#94c11c' // orange = ''#f39100' // petrol = '#009bb4' // light green = '#C6D59F' // dark orange = '#BF7300'"
   ]
  },
  {
   "cell_type": "code",
   "execution_count": 4,
   "id": "correct-protection",
   "metadata": {},
   "outputs": [],
   "source": [
    "# Read dataset\n",
    "data  = 'datasets/aug_train.csv'\n",
    "train = pd.read_csv(data)\n",
    "\n",
    "data = 'datasets/train_clean.csv'\n",
    "train_clean = pd.read_csv(data)\n",
    "\n",
    "data = 'datasets/train_model.csv'\n",
    "train_model = pd.read_csv(data)\n",
    "\n",
    "data = 'datasets/train_cat_graph.csv'\n",
    "train_cat_graph = pd.read_csv(data)"
   ]
  },
  {
   "cell_type": "markdown",
   "id": "blind-villa",
   "metadata": {},
   "source": [
    "### Print Version"
   ]
  },
  {
   "cell_type": "code",
   "execution_count": 5,
   "id": "vocational-stone",
   "metadata": {},
   "outputs": [],
   "source": [
    "import sys\n",
    "def print_version():\n",
    "    print(\"Python version: {}\".format(sys.version))\n",
    "    print(\"NumPy version: {}\".format(np.__version__))\n",
    "    print(\"pandas version: {}\".format(pd.__version__))\n",
    "    print(\"matplotlib version: {}\".format(mpl.__version__))\n",
    "    print(\"seaborn version: {}\".format(sns.__version__))\n",
    "    print(\"scikit-learn version: {}\".format(sklearn.__version__))\n",
    "    print(\"XGBoost version: {}\".format(xgb.__version__))"
   ]
  },
  {
   "cell_type": "code",
   "execution_count": 6,
   "id": "bearing-crisis",
   "metadata": {},
   "outputs": [],
   "source": [
    "#print_version()"
   ]
  },
  {
   "cell_type": "markdown",
   "id": "institutional-momentum",
   "metadata": {},
   "source": [
    "### Tables"
   ]
  },
  {
   "cell_type": "code",
   "execution_count": 7,
   "id": "headed-intention",
   "metadata": {},
   "outputs": [],
   "source": [
    "def show_raw_data():\n",
    "    display(train.head(5))"
   ]
  },
  {
   "cell_type": "code",
   "execution_count": 8,
   "id": "greenhouse-distance",
   "metadata": {},
   "outputs": [],
   "source": [
    "def show_clean_data():\n",
    "    display(train_clean.head(5))"
   ]
  },
  {
   "cell_type": "code",
   "execution_count": 9,
   "id": "ancient-vacuum",
   "metadata": {},
   "outputs": [],
   "source": [
    "def show_binary_data():\n",
    "    display(train_model.head(5))"
   ]
  },
  {
   "cell_type": "markdown",
   "id": "polish-cable",
   "metadata": {},
   "source": [
    "### Basic data / data types / mean / median for variable"
   ]
  },
  {
   "cell_type": "code",
   "execution_count": 10,
   "id": "indoor-mechanism",
   "metadata": {
    "scrolled": false
   },
   "outputs": [],
   "source": [
    "# Print the data types for each variable\n",
    "#print(\"\\nThese are the data types for each variable:\")\n",
    "#display(train.dtypes)\n",
    "\n",
    "def show_basics(variable_name):\n",
    "    name = (variable_name).upper()\n",
    "    print(\"\\n\",name)\n",
    "    print(\"\\nDatatype\",train[variable_name].dtype)\n",
    "    print(\"\\nNumber of unique values:\", train[variable_name].nunique())\n",
    "    display(train[variable_name].value_counts())\n",
    "\n",
    "    print(\"Occurrences of 'NaN':\", train[variable_name].isna().sum())\n",
    "    percent_nan = train[variable_name].isna().sum()/train['enrollee_id'].count()*100\n",
    "    print(\"\\nProportion of 'NaN':\",percent_nan.round(2))\n",
    "    print(\"\\nMost frequent value:\", train[variable_name].mode())\n",
    "    \n",
    "    prop = train[variable_name].isin(train[variable_name].mode()).sum()/train[variable_name].value_counts().sum()\n",
    "    prop = (prop*100).round(2)\n",
    "    print(\"\\nProportion most frequent / all:\", prop)\n",
    "    print(\"____________________________________________________\")\n",
    "\n",
    "def show_all_basics():    \n",
    "    for variable in {'enrollee_id','city','city_development_index','gender','relevent_experience','enrolled_university','education_level','major_discipline','experience','company_size','company_type','last_new_job','training_hours','target'}:\n",
    "        show_basics(variable)"
   ]
  },
  {
   "cell_type": "code",
   "execution_count": 11,
   "id": "electric-somalia",
   "metadata": {
    "scrolled": false
   },
   "outputs": [],
   "source": [
    "# Print the data types for each variable\n",
    "#show_all_basics()"
   ]
  },
  {
   "cell_type": "code",
   "execution_count": 12,
   "id": "round-innocent",
   "metadata": {},
   "outputs": [],
   "source": [
    "# Show median and mean for all cardinal variables (training_hours & city_development_index)\n",
    "def name_median_mean_all_cardinal_data():\n",
    "    print(\"\\nStandard deviation for cardinal scaled variables:\\n\", train_clean[['city_development_index','training_hours']].std())\n",
    "    print(\"\\nMean for cardinal scaled variables:\\n\",train_clean[['city_development_index','training_hours']].mean())\n",
    "    print(\"\\nMedian for cardinal scaled variables:\\n\",train_clean[['city_development_index','training_hours']].median())"
   ]
  },
  {
   "cell_type": "code",
   "execution_count": 13,
   "id": "hourly-cancer",
   "metadata": {},
   "outputs": [],
   "source": [
    "# Show median and mean for all cardinal variables (training_hours & city_development_index)\n",
    "#name_median_mean_all_cardinal_data():"
   ]
  },
  {
   "cell_type": "markdown",
   "id": "modular-example",
   "metadata": {},
   "source": [
    "### Overview of imbalanced variables"
   ]
  },
  {
   "cell_type": "code",
   "execution_count": 14,
   "id": "champion-commissioner",
   "metadata": {},
   "outputs": [],
   "source": [
    "# Overview of inbalanced variables\n",
    "# for highlighting the first highest bar: red '#E93356'\n",
    "\n",
    "def plot_imbalance():\n",
    "\n",
    "    fig, axes = plt.subplots(1,4, figsize=(20, 5))\n",
    "    sns.despine(left=True, bottom=True)\n",
    "\n",
    "    n=0\n",
    "    fig.suptitle('Countplots of various variables')\n",
    "\n",
    "    cols = ['gender', 'relevent_experience','enrolled_university','education_level' ]\n",
    "\n",
    "    for col in cols:\n",
    "        descending_order = train[col].value_counts().sort_values(ascending=False).index\n",
    "        sns.countplot(ax=axes[n], data=train, order=descending_order, palette=['#3B89F3','#3B89F3','#3B89F3','#3B89F3','#3B89F3','#3B89F3','#3B89F3','#3B89F3','#3B89F3','#3B89F3','#3B89F3'], x=col)\n",
    "        axes[n].set_title('Count of {}'.format(col))\n",
    "        axes[n].set_xlabel('')\n",
    "        axes[n].set_ylabel('')\n",
    "        axes[n].tick_params('x',labelrotation=45)\n",
    "        n += 1\n",
    "\n",
    "    plt.show()\n",
    "    fig, axes = plt.subplots(1,4, figsize=(20, 5))\n",
    "    sns.despine(left=True, bottom=True)\n",
    "\n",
    "    n=0\n",
    "    cols = ['major_discipline','experience', 'company_type','last_new_job' ]\n",
    "\n",
    "\n",
    "    for col in cols:\n",
    "        descending_order = train[col].value_counts().sort_values(ascending=False).index\n",
    "        sns.countplot(ax=axes[n], data=train, order=descending_order, palette=['#3B89F3','#3B89F3','#3B89F3','#3B89F3','#3B89F3','#3B89F3','#3B89F3','#3B89F3','#3B89F3','#3B89F3','#3B89F3','#3B89F3','#3B89F3','#3B89F3','#3B89F3','#3B89F3','#3B89F3','#3B89F3','#3B89F3','#3B89F3','#3B89F3'], x=col)\n",
    "        axes[n].set_title('Count of {}'.format(col))\n",
    "        axes[n].set_xlabel('')\n",
    "        axes[n].set_ylabel('')\n",
    "        axes[n].tick_params('x',labelrotation=45)\n",
    "        n += 1\n",
    "\n",
    "    plt.show()"
   ]
  },
  {
   "cell_type": "code",
   "execution_count": 15,
   "id": "satellite-killer",
   "metadata": {},
   "outputs": [],
   "source": [
    "# Overview of imbalanced variables\n",
    "#plot_imbalance()"
   ]
  },
  {
   "cell_type": "markdown",
   "id": "clean-great",
   "metadata": {},
   "source": [
    "### Plot: count"
   ]
  },
  {
   "cell_type": "code",
   "execution_count": 16,
   "id": "burning-defendant",
   "metadata": {},
   "outputs": [],
   "source": [
    "# Count plots standard\n",
    "\n",
    "def countplot(variable_name):\n",
    "    train[variable_name].value_counts().head(10).sort_values(ascending=False).plot(kind='bar',figsize=(5,5), color=['#3B89F3'])\n",
    "    plt.xticks(rotation=45)\n",
    "    sns.despine(left=True, bottom=True)\n",
    "\n",
    "def h_countplot(variable_name):\n",
    "    train[variable_name].value_counts().head(10).sort_values(ascending=True).plot(kind='barh', figsize=(5,5), color=['#3B89F3'])\n",
    "    sns.despine(left=True, bottom=True)"
   ]
  },
  {
   "cell_type": "markdown",
   "id": "innovative-killer",
   "metadata": {},
   "source": [
    "### Plot: frequency"
   ]
  },
  {
   "cell_type": "code",
   "execution_count": 17,
   "id": "thorough-papua",
   "metadata": {},
   "outputs": [],
   "source": [
    "# Frequency plots standard\n",
    "\n",
    "def freq_candidate(variable_name):\n",
    "    col_list = train_clean[variable_name].dropna()\n",
    "    col_list=col_list.unique().tolist()\n",
    "\n",
    "    train_clean['freq'] = train_clean[train_clean['target']>0].groupby([variable_name])[variable_name].transform('count')\n",
    "    train_clean['freq_candidate'] = train_clean.groupby([variable_name])[variable_name].transform('count')\n",
    "    train_clean['freq_target'] = train_clean.groupby([variable_name])['freq'].transform('max')\n",
    "\n",
    "    f, ax = plt.subplots(figsize=(5,5))\n",
    "\n",
    "    freq_variable = train_clean.loc[:, (variable_name, \"freq_target\",'freq_candidate')]\n",
    "    freq_variable.drop_duplicates(keep=\"first\", inplace=True)\n",
    "    freq_variable.sort_values('freq_target', ascending = True, inplace=True)\n",
    "    freq_variable = freq_variable.dropna().sort_values('freq_candidate', ascending = False).head(10)\n",
    "\n",
    "    variable_data = freq_variable[freq_variable[variable_name].isin(col_list)].head(10)\n",
    "    \n",
    "    \n",
    "    plt.bar(height=\"freq_candidate\", x=variable_name, data=freq_variable, label=\"total candidates\", color='#3B89F3')\n",
    "    \n",
    "    plt.bar(height=\"freq_target\", x=variable_name, data=variable_data, label=\"job change: yes\", color=\"#E93356\")\n",
    "    \n",
    "    ax.legend(loc=\"upper right\")\n",
    "    ax.set(xlabel =None, ylabel = 'frequency of \"willing to change job\"')\n",
    "    plt.xticks(rotation=45)\n",
    "    sns.despine(left=True, bottom=True)\n",
    "    "
   ]
  },
  {
   "cell_type": "code",
   "execution_count": 18,
   "id": "suspected-mailman",
   "metadata": {},
   "outputs": [],
   "source": [
    "# Frequency plots non-standard\n",
    "\n",
    "def h_freq_candidate_c(variable_name):\n",
    "    train_clean['freq'] = train_clean[train_clean['target']>0].groupby([variable_name])['city'].transform('count')\n",
    "    train_clean['freq_candidate'] = train_clean.groupby([variable_name])[variable_name].transform('count')\n",
    "    train_clean['freq_target'] = train_clean.groupby([variable_name])['freq'].transform('max')\n",
    "    f, ax = plt.subplots(figsize=(5,5))\n",
    "\n",
    "    freq_variable = train_clean.loc[:, (variable_name, \"freq_target\",'freq_candidate')]\n",
    "    freq_variable.drop_duplicates(keep=\"first\", inplace=True)\n",
    "    freq_variable.sort_values('freq_target', ascending = True, inplace=True)\n",
    "    freq_variable = freq_variable.dropna()\n",
    "\n",
    "    # Plot the total candidates\n",
    "    sns.barplot(x=\"freq_candidate\", y=variable_name, data=freq_variable,orient='h', order=freq_variable.sort_values('freq_candidate', ascending = False).city.head(10),\n",
    "            label=\"total candidates\", color='#3B89F3')\n",
    "\n",
    "    # Plot candidates that are willing to change job\n",
    "    sns.barplot(x=\"freq_target\", y=variable_name, data=freq_variable, orient='h',order=freq_variable.sort_values('freq_candidate', ascending = False).city.head(10),\n",
    "            label=\"job change: yes\", color=\"#E93356\")\n",
    "\n",
    "    # Adding a legend and informative axis label\n",
    "    ax.legend(loc=\"lower right\")\n",
    "    plt.xticks(rotation=45)\n",
    "    ax.set(xlabel =None, ylabel = 'frequency of \"willing to change job\"')\n",
    "    sns.despine(left=True, bottom=True)\n",
    "    \n",
    "\n",
    "def h_freq_candidate_cdi(variable_name):\n",
    "    train_clean['freq'] = train_clean[train_clean['target']>0].groupby([variable_name])['city'].transform('count')\n",
    "    train_clean['freq_candidate'] = train_clean.groupby([variable_name])[variable_name].transform('count')\n",
    "    train_clean['freq_target'] = train_clean.groupby([variable_name])['freq'].transform('max')\n",
    "    f, ax = plt.subplots(figsize=(5,5))\n",
    "\n",
    "    freq_variable = train_clean.loc[:, (variable_name, \"freq_target\",'freq_candidate')]\n",
    "    freq_variable.drop_duplicates(keep=\"first\", inplace=True)\n",
    "    freq_variable.sort_values('freq_target', ascending = True, inplace=True)\n",
    "    freq_variable = freq_variable.dropna()\n",
    "\n",
    "    # Plot the total candidates\n",
    "    sns.barplot(x=\"freq_candidate\", y=variable_name, data=freq_variable,orient='h', order=freq_variable.sort_values('freq_candidate', ascending = False).city_development_index.head(10),\n",
    "            label=\"total candidates\", color='#3B89F3')\n",
    "\n",
    "    # Plot candidates that are willing to change job\n",
    "    sns.barplot(x=\"freq_target\", y=variable_name, data=freq_variable, orient='h',order=freq_variable.sort_values('freq_candidate', ascending = False).city_development_index.head(10),\n",
    "            label=\"job change: yes\", color=\"#E93356\")\n",
    "\n",
    "    # Adding a legend and informative axis label\n",
    "    ax.legend(loc=\"lower right\")\n",
    "    plt.xticks(rotation=45)\n",
    "    ax.set(xlabel =None, ylabel = 'frequency of \"willing to change job\"')\n",
    "    sns.despine(left=True, bottom=True)\n",
    "    \n",
    "def h_freq_candidate_th(variable_name):\n",
    "    train_clean['freq'] = train_clean[train_clean['target']>0].groupby([variable_name])['city'].transform('count')\n",
    "    train_clean['freq_candidate'] = train_clean.groupby([variable_name])[variable_name].transform('count')\n",
    "    train_clean['freq_target'] = train_clean.groupby([variable_name])['freq'].transform('max')\n",
    "    f, ax = plt.subplots(figsize=(5,5))\n",
    "\n",
    "    freq_variable = train_clean.loc[:, (variable_name, \"freq_target\",'freq_candidate')]\n",
    "    freq_variable.drop_duplicates(keep=\"first\", inplace=True)\n",
    "    freq_variable.sort_values('freq_target', ascending = True, inplace=True)\n",
    "    freq_variable = freq_variable.dropna()\n",
    "\n",
    "    # Plot the total candidates\n",
    "    sns.barplot(x=\"freq_candidate\", y=variable_name, data=freq_variable,orient='h', order=freq_variable.sort_values('freq_candidate', ascending = False).training_hours.head(10),\n",
    "            label=\"total candidates\", color='#3B89F3')\n",
    "\n",
    "    # Plot candidates that are willing to change job\n",
    "    sns.barplot(x=\"freq_target\", y=variable_name, data=freq_variable, orient='h',order=freq_variable.sort_values('freq_candidate', ascending = False).training_hours.head(10),\n",
    "            label=\"job change: yes\", color=\"#E93356\")\n",
    "\n",
    "    # Adding a legend and informative axis label\n",
    "    ax.legend(loc=\"lower right\")\n",
    "    plt.xticks(rotation=45)\n",
    "    ax.set(xlabel =None, ylabel = 'frequency of \"willing to change job\"')\n",
    "    sns.despine(left=True, bottom=True)"
   ]
  },
  {
   "cell_type": "markdown",
   "id": "native-affiliate",
   "metadata": {},
   "source": [
    "### Plot: proportion"
   ]
  },
  {
   "cell_type": "code",
   "execution_count": 19,
   "id": "burning-oakland",
   "metadata": {},
   "outputs": [],
   "source": [
    "# Proportion plot standards\n",
    "\n",
    "def prop_candidate(variable_name, width):\n",
    "    fig_dims = (width, 5)\n",
    "    fig, ax = plt.subplots(figsize=fig_dims)\n",
    "    \n",
    "    train_clean['freq'] = train_clean[train_clean['target']>0].groupby([variable_name])[variable_name].transform('count')\n",
    "    train_clean['freq_candidate'] = train_clean.groupby([variable_name])[variable_name].transform('count')\n",
    "\n",
    "    prop_variable = train_clean.copy()\n",
    "    prop_variable = prop_variable.sort_values('freq_candidate', ascending = False)\n",
    "\n",
    "    \n",
    "    lp=sns.barplot(x=variable_name, y='target', data=prop_variable, color='#3B89F3', ci=95)\n",
    "    lp.axes.set_ylim(0,0.5)\n",
    "    lp.axes.set(xlabel =None, ylabel = 'proportion of \"willing to change job\"')\n",
    "    lp.set_xticklabels(lp.get_xticklabels(), rotation=45);\n",
    "    ax.yaxis.set_major_formatter(PercentFormatter(1.0))\n",
    "    sns.despine(left=True, bottom=True)   "
   ]
  },
  {
   "cell_type": "code",
   "execution_count": 20,
   "id": "related-anger",
   "metadata": {},
   "outputs": [],
   "source": [
    "# Combine frequency and proportion plots\n",
    "\n",
    "def freq_and_prop_candidate(variable_name):\n",
    "    freq_candidate(variable_name)\n",
    "    prop_candidate(variable_name)"
   ]
  },
  {
   "cell_type": "markdown",
   "id": "reserved-morrison",
   "metadata": {},
   "source": [
    "### Plot: distribution"
   ]
  },
  {
   "cell_type": "code",
   "execution_count": 21,
   "id": "senior-picnic",
   "metadata": {},
   "outputs": [],
   "source": [
    "# Displot for cardianal scale\n",
    "\n",
    "def displot(variable_name):\n",
    "\n",
    "    sns.despine(left=True, bottom=True)\n",
    "\n",
    "    ax=sns.displot(x= variable_name, y='target', data=train_clean, kind='kde', color = '#3B89F3', fill=True)\n",
    "    ax.set(ylabel='distribution: willing to change job (0=no 1=yes)')\n",
    "    "
   ]
  },
  {
   "cell_type": "code",
   "execution_count": 22,
   "id": "british-funds",
   "metadata": {},
   "outputs": [],
   "source": [
    "# Descriptive statistic for training_hours\n",
    "\n",
    "def displot_median_mean_th():\n",
    "\n",
    "    sns.displot(train_model['training_hours'], kde=False, color='#3B89F3')\n",
    "    plt.axvline(x=train_model.training_hours.mean(), linewidth=3, color='#E93356', label=\"mean\") \n",
    "    plt.axvline(x=train_model.training_hours.median(), linewidth=3, color='#ffdd00', label=\"median\")\n",
    "    plt.ylabel(\"Count\")\n",
    "    plt.legend([\"mean\", \"median\"])\n",
    "    plt.xticks(rotation=45)\n",
    "    sns.despine(left=True, bottom=True)"
   ]
  },
  {
   "cell_type": "code",
   "execution_count": 23,
   "id": "bulgarian-simpson",
   "metadata": {},
   "outputs": [],
   "source": [
    "# Descriptive statistic for city_development_index\n",
    "\n",
    "def displot_median_mean_cdi():\n",
    "\n",
    "    sns.displot(train_model['city_development_index'], kde=False, color='#3B89F3')\n",
    "    plt.axvline(x=train_model.city_development_index.mean(), linewidth=3, color='#E93356', label=\"mean\") \n",
    "    plt.axvline(x=train_model.city_development_index.median(), linewidth=3, color='#ffdd00', label=\"median\")\n",
    "    plt.ylabel(\"Count\")\n",
    "    plt.legend([\"mean\", \"median\"])\n",
    "    plt.xticks(rotation=45)\n",
    "    sns.despine(left=True, bottom=True)"
   ]
  },
  {
   "cell_type": "markdown",
   "id": "eastern-heading",
   "metadata": {},
   "source": [
    "### Plot: pie"
   ]
  },
  {
   "cell_type": "code",
   "execution_count": 24,
   "id": "needed-taste",
   "metadata": {},
   "outputs": [],
   "source": [
    "# Pie plot\n",
    "\n",
    "def pie_plot(variable_name):\n",
    "    values = train_clean[train_clean['target'] == 1][variable_name].value_counts()\n",
    "    labels = values.keys()\n",
    "    bar,ax = plt.subplots(figsize=(8,8))\n",
    "    plt.pie(x = values, labels = labels , autopct=\"%.1f%%\",pctdistance=0.9, colors = ('#3B89F3','#f39100','#009bb4', '#94c11c','#BF7300' ,'#ffdd00', '#C6D59F'))\n",
    "    plt.title('')"
   ]
  },
  {
   "cell_type": "code",
   "execution_count": 25,
   "id": "worst-microwave",
   "metadata": {},
   "outputs": [],
   "source": [
    "# Pie plot for group \"company size = no info\"\n",
    "\n",
    "def pie_plot_cs_no_info(variable_name):\n",
    "    values = train_clean[train_clean[\"company_size\"] == \"no info\"][variable_name].value_counts()\n",
    "    labels = values.keys()\n",
    "    bar,ax = plt.subplots(figsize=(8,8))\n",
    "    plt.pie(x = values, labels = labels , autopct=\"%.2f%%\",pctdistance=0.9, colors = ('#3B89F3','#f39100','#009bb4', '#94c11c','#BF7300' ,'#ffdd00', '#C6D59F'))\n",
    "    plt.title('')"
   ]
  },
  {
   "cell_type": "code",
   "execution_count": 26,
   "id": "northern-implement",
   "metadata": {},
   "outputs": [],
   "source": [
    "# Pie plot for group \"last new job = 0\"\n",
    "\n",
    "def pie_plot_lnj_zero(variable_name):\n",
    "    values = train_clean[train_clean[\"last_new_job\"] == \"never\"][variable_name].value_counts()\n",
    "    labels = values.keys()\n",
    "    bar,ax = plt.subplots(figsize=(8,8))\n",
    "    plt.pie(x = values, labels = labels , autopct=\"%.2f%%\",pctdistance=0.9, colors = ('#3B89F3','#f39100','#009bb4', '#94c11c','#BF7300' ,'#ffdd00', '#C6D59F'))\n",
    "    plt.title('')"
   ]
  },
  {
   "cell_type": "code",
   "execution_count": 27,
   "id": "verified-feeling",
   "metadata": {},
   "outputs": [],
   "source": [
    "#pie_plot_lnj_zero('experience')"
   ]
  },
  {
   "cell_type": "markdown",
   "id": "suspected-point",
   "metadata": {},
   "source": [
    "### Plot: regression (for cardinal variables)"
   ]
  },
  {
   "cell_type": "code",
   "execution_count": 28,
   "id": "governmental-indie",
   "metadata": {},
   "outputs": [],
   "source": [
    "# Regression plot for cardianal scale\n",
    "\n",
    "def regplot(variable_name):\n",
    "\n",
    "    sns.despine(left=True, bottom=True)\n",
    "    \n",
    "    ax=sns.lmplot(x= variable_name, y='target', data=train_clean, scatter_kws={\"color\": \"white\"}, ci=None,y_jitter=.02, logistic=True, truncate=False, line_kws={'color' : 'red'})\n",
    "    ax.set(ylabel='distribution: willing to change job')\n",
    "    "
   ]
  },
  {
   "cell_type": "markdown",
   "id": "every-interim",
   "metadata": {},
   "source": [
    "### Plot: category (for showing impact of City Dev Index over other variables )"
   ]
  },
  {
   "cell_type": "code",
   "execution_count": 29,
   "id": "sufficient-prompt",
   "metadata": {},
   "outputs": [],
   "source": [
    "# Category plot showing impact of City Dev Index over other variables ('Working_Experience' und 'DataScience_Experience')\n",
    "\n",
    "def cat_plot(variable_name):\n",
    "    g= sns.catplot(x='City_Development_Index',y='target',hue=variable_name,kind='bar',data = train_cat_graph, palette=['#E93356','#3B89F3'])\n",
    "    g.fig.set_figwidth(12)"
   ]
  },
  {
   "cell_type": "markdown",
   "id": "upper-aquatic",
   "metadata": {},
   "source": [
    "# Plots and tables based on functions"
   ]
  },
  {
   "cell_type": "code",
   "execution_count": 30,
   "id": "protective-humidity",
   "metadata": {},
   "outputs": [],
   "source": [
    "# Creates head of table of raw data \n",
    "#show_raw_data()"
   ]
  },
  {
   "cell_type": "code",
   "execution_count": 31,
   "id": "devoted-islam",
   "metadata": {},
   "outputs": [],
   "source": [
    "# Creates head of table of clean data \n",
    "#show_clean_data()"
   ]
  },
  {
   "cell_type": "code",
   "execution_count": 32,
   "id": "foreign-hungarian",
   "metadata": {},
   "outputs": [],
   "source": [
    "# Creates head of table of binary data \n",
    "#show_binary_data()"
   ]
  },
  {
   "cell_type": "markdown",
   "id": "bound-congo",
   "metadata": {},
   "source": [
    "## Plot on target"
   ]
  },
  {
   "cell_type": "code",
   "execution_count": 33,
   "id": "oriental-royalty",
   "metadata": {},
   "outputs": [],
   "source": [
    "#countplot('target')"
   ]
  },
  {
   "cell_type": "markdown",
   "id": "unsigned-briefs",
   "metadata": {},
   "source": [
    "## Plot on city development index"
   ]
  },
  {
   "cell_type": "code",
   "execution_count": 34,
   "id": "anonymous-vehicle",
   "metadata": {},
   "outputs": [],
   "source": [
    "#h_freq_candidate_cdi('city_development_index')"
   ]
  },
  {
   "cell_type": "code",
   "execution_count": 42,
   "id": "blessed-meditation",
   "metadata": {},
   "outputs": [],
   "source": [
    "#displot('city_development_index')"
   ]
  },
  {
   "cell_type": "code",
   "execution_count": 40,
   "id": "together-preservation",
   "metadata": {},
   "outputs": [],
   "source": [
    "#displot_median_mean_cdi()"
   ]
  },
  {
   "cell_type": "code",
   "execution_count": 38,
   "id": "later-gazette",
   "metadata": {},
   "outputs": [],
   "source": [
    "#regplot('city_development_index')"
   ]
  },
  {
   "cell_type": "markdown",
   "id": "cloudy-territory",
   "metadata": {},
   "source": [
    "## Plot on company size"
   ]
  },
  {
   "cell_type": "code",
   "execution_count": 71,
   "id": "accessory-division",
   "metadata": {},
   "outputs": [],
   "source": [
    "#freq_candidate('company_size')"
   ]
  },
  {
   "cell_type": "code",
   "execution_count": 72,
   "id": "exposed-basement",
   "metadata": {},
   "outputs": [],
   "source": [
    "#prop_candidate('company_size',5)"
   ]
  },
  {
   "cell_type": "code",
   "execution_count": 89,
   "id": "extended-rebel",
   "metadata": {},
   "outputs": [],
   "source": [
    "#pie_plot_cs_no_info('experience_group')"
   ]
  },
  {
   "cell_type": "markdown",
   "id": "wound-munich",
   "metadata": {},
   "source": [
    "## Plot on company type"
   ]
  },
  {
   "cell_type": "code",
   "execution_count": 75,
   "id": "ready-figure",
   "metadata": {},
   "outputs": [],
   "source": [
    "#freq_candidate('company_type')"
   ]
  },
  {
   "cell_type": "code",
   "execution_count": 135,
   "id": "seven-idaho",
   "metadata": {},
   "outputs": [],
   "source": [
    "#prop_candidate('company_type',5)"
   ]
  },
  {
   "cell_type": "code",
   "execution_count": 97,
   "id": "federal-belly",
   "metadata": {},
   "outputs": [],
   "source": [
    "#cat_plot('Company Type')"
   ]
  },
  {
   "cell_type": "markdown",
   "id": "impressive-newport",
   "metadata": {},
   "source": [
    "## Plot on education level"
   ]
  },
  {
   "cell_type": "code",
   "execution_count": 64,
   "id": "supreme-lighting",
   "metadata": {},
   "outputs": [],
   "source": [
    "#freq_candidate('education_level')"
   ]
  },
  {
   "cell_type": "code",
   "execution_count": 56,
   "id": "complete-token",
   "metadata": {},
   "outputs": [],
   "source": [
    "#prop_candidate('education_level',5)"
   ]
  },
  {
   "cell_type": "code",
   "execution_count": 95,
   "id": "satisfied-destination",
   "metadata": {},
   "outputs": [],
   "source": [
    "#cat_plot('Highest Education')"
   ]
  },
  {
   "cell_type": "markdown",
   "id": "applicable-coral",
   "metadata": {},
   "source": [
    "## Plot on relevant experience"
   ]
  },
  {
   "cell_type": "code",
   "execution_count": 46,
   "id": "prescribed-headline",
   "metadata": {},
   "outputs": [],
   "source": [
    "#freq_candidate('relevent_experience')"
   ]
  },
  {
   "cell_type": "code",
   "execution_count": 48,
   "id": "working-impossible",
   "metadata": {},
   "outputs": [],
   "source": [
    "#prop_candidate('relevent_experience',5)"
   ]
  },
  {
   "cell_type": "markdown",
   "id": "activated-cabinet",
   "metadata": {},
   "source": [
    "## Plot on last new job"
   ]
  },
  {
   "cell_type": "code",
   "execution_count": 79,
   "id": "economic-theory",
   "metadata": {},
   "outputs": [],
   "source": [
    "#freq_candidate('last_new_job')"
   ]
  },
  {
   "cell_type": "code",
   "execution_count": 80,
   "id": "excess-genre",
   "metadata": {},
   "outputs": [],
   "source": [
    "#prop_candidate('last_new_job',5)"
   ]
  },
  {
   "cell_type": "markdown",
   "id": "lesser-constitutional",
   "metadata": {},
   "source": [
    "## Plot on experience"
   ]
  },
  {
   "cell_type": "code",
   "execution_count": 66,
   "id": "understood-brook",
   "metadata": {},
   "outputs": [],
   "source": [
    "#freq_candidate('experience')"
   ]
  },
  {
   "cell_type": "code",
   "execution_count": 68,
   "id": "starting-edinburgh",
   "metadata": {},
   "outputs": [],
   "source": [
    "#prop_candidate('experience_group',5)"
   ]
  },
  {
   "cell_type": "markdown",
   "id": "diverse-dealer",
   "metadata": {},
   "source": [
    "## Plot on enrolled university"
   ]
  },
  {
   "cell_type": "code",
   "execution_count": 50,
   "id": "beginning-purple",
   "metadata": {},
   "outputs": [],
   "source": [
    "#freq_candidate('enrolled_university')"
   ]
  },
  {
   "cell_type": "code",
   "execution_count": 52,
   "id": "imposed-steal",
   "metadata": {},
   "outputs": [],
   "source": [
    "#prop_candidate('enrolled_university',5)"
   ]
  },
  {
   "cell_type": "markdown",
   "id": "realistic-costs",
   "metadata": {},
   "source": [
    "## Plot on others"
   ]
  },
  {
   "cell_type": "code",
   "execution_count": 42,
   "id": "official-church",
   "metadata": {},
   "outputs": [],
   "source": [
    "#freq_candidate('gender')"
   ]
  },
  {
   "cell_type": "code",
   "execution_count": 44,
   "id": "compound-substitute",
   "metadata": {},
   "outputs": [],
   "source": [
    "#prop_candidate('gender',5)"
   ]
  },
  {
   "cell_type": "code",
   "execution_count": 36,
   "id": "wrapped-geography",
   "metadata": {},
   "outputs": [],
   "source": [
    "#h_freq_candidate_c('city')"
   ]
  },
  {
   "cell_type": "code",
   "execution_count": 58,
   "id": "horizontal-exhaust",
   "metadata": {},
   "outputs": [],
   "source": [
    "#pie_plot('major_discipline')"
   ]
  },
  {
   "cell_type": "code",
   "execution_count": 60,
   "id": "traditional-preview",
   "metadata": {},
   "outputs": [],
   "source": [
    "#freq_candidate('major_discipline')"
   ]
  },
  {
   "cell_type": "code",
   "execution_count": 62,
   "id": "greater-market",
   "metadata": {},
   "outputs": [],
   "source": [
    "#prop_candidate('major_discipline',5)"
   ]
  },
  {
   "cell_type": "code",
   "execution_count": 82,
   "id": "marine-karen",
   "metadata": {},
   "outputs": [],
   "source": [
    "#h_freq_candidate_th('training_hours')"
   ]
  },
  {
   "cell_type": "code",
   "execution_count": 84,
   "id": "corresponding-testament",
   "metadata": {},
   "outputs": [],
   "source": [
    "#displot('training_hours')"
   ]
  },
  {
   "cell_type": "code",
   "execution_count": 87,
   "id": "executed-clinton",
   "metadata": {},
   "outputs": [],
   "source": [
    "#displot_median_mean_th()"
   ]
  },
  {
   "cell_type": "code",
   "execution_count": 93,
   "id": "formed-director",
   "metadata": {},
   "outputs": [],
   "source": [
    "#regplot('training_hours')"
   ]
  },
  {
   "cell_type": "code",
   "execution_count": null,
   "id": "surgical-prevention",
   "metadata": {},
   "outputs": [],
   "source": []
  }
 ],
 "metadata": {
  "kernelspec": {
   "display_name": "Python 3",
   "language": "python",
   "name": "python3"
  },
  "language_info": {
   "codemirror_mode": {
    "name": "ipython",
    "version": 3
   },
   "file_extension": ".py",
   "mimetype": "text/x-python",
   "name": "python",
   "nbconvert_exporter": "python",
   "pygments_lexer": "ipython3",
   "version": "3.9.2"
  },
  "toc": {
   "base_numbering": 1,
   "nav_menu": {},
   "number_sections": true,
   "sideBar": true,
   "skip_h1_title": false,
   "title_cell": "Table of Contents",
   "title_sidebar": "Contents",
   "toc_cell": false,
   "toc_position": {},
   "toc_section_display": true,
   "toc_window_display": false
  },
  "varInspector": {
   "cols": {
    "lenName": 16,
    "lenType": 16,
    "lenVar": 40
   },
   "kernels_config": {
    "python": {
     "delete_cmd_postfix": "",
     "delete_cmd_prefix": "del ",
     "library": "var_list.py",
     "varRefreshCmd": "print(var_dic_list())"
    },
    "r": {
     "delete_cmd_postfix": ") ",
     "delete_cmd_prefix": "rm(",
     "library": "var_list.r",
     "varRefreshCmd": "cat(var_dic_list()) "
    }
   },
   "oldHeight": 201,
   "position": {
    "height": "223px",
    "left": "789px",
    "right": "20px",
    "top": "130px",
    "width": "563px"
   },
   "types_to_exclude": [
    "module",
    "function",
    "builtin_function_or_method",
    "instance",
    "_Feature"
   ],
   "varInspector_section_display": "block",
   "window_display": false
  }
 },
 "nbformat": 4,
 "nbformat_minor": 5
}
