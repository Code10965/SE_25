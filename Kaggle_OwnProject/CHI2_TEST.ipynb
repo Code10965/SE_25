{
 "cells": [
  {
   "cell_type": "markdown",
   "id": "mature-husband",
   "metadata": {
    "hide_input": false
   },
   "source": [
    "#  CHI<sup>2</sup>-TEST: Testing the Significance"
   ]
  },
  {
   "cell_type": "code",
   "execution_count": 1,
   "id": "still-miniature",
   "metadata": {
    "hide_input": false
   },
   "outputs": [],
   "source": [
    "# general sys modules / libraries\n",
    "import sys\n",
    "import warnings  \n",
    "warnings.filterwarnings('ignore') \n",
    "\n",
    "# data analysis and visualisation modules / libraries\n",
    "import numpy as np\n",
    "from numpy import loadtxt\n",
    "\n",
    "import pandas as pd\n",
    "\n",
    "import matplotlib as mpl\n",
    "import matplotlib.pyplot as plt\n",
    "import matplotlib.ticker as mtick\n",
    "from matplotlib.ticker import PercentFormatter\n",
    "\n",
    "\n",
    "import seaborn as sns\n",
    "\n",
    "import scipy.stats as scs\n",
    "from scipy import stats\n",
    "\n",
    "# machine learning modules / libraries\n",
    "import xgboost as xgb\n",
    "from xgboost import plot_importance\n",
    "from xgboost import XGBClassifier\n",
    "from xgboost import XGBRegressor\n",
    "\n",
    "import sklearn\n",
    "from sklearn.dummy import DummyClassifier\n",
    "from sklearn.metrics import mean_squared_error\n",
    "from sklearn.metrics import accuracy_score\n",
    "from sklearn.model_selection import cross_validate\n",
    "from sklearn.model_selection import GridSearchCV\n",
    "from sklearn.model_selection import train_test_split"
   ]
  },
  {
   "cell_type": "code",
   "execution_count": 2,
   "id": "parallel-motion",
   "metadata": {},
   "outputs": [],
   "source": [
    "# Read dataset\n",
    "data = 'datasets/train_chi.csv'\n",
    "train_chi= pd.read_csv(data)"
   ]
  },
  {
   "cell_type": "markdown",
   "id": "rising-length",
   "metadata": {},
   "source": [
    "### Finding 1: City development Index: more than 0.6\n",
    "***"
   ]
  },
  {
   "cell_type": "code",
   "execution_count": 3,
   "id": "environmental-librarian",
   "metadata": {
    "hide_input": false
   },
   "outputs": [
    {
     "data": {
      "text/html": [
       "<div>\n",
       "<style scoped>\n",
       "    .dataframe tbody tr th:only-of-type {\n",
       "        vertical-align: middle;\n",
       "    }\n",
       "\n",
       "    .dataframe tbody tr th {\n",
       "        vertical-align: top;\n",
       "    }\n",
       "\n",
       "    .dataframe thead th {\n",
       "        text-align: right;\n",
       "    }\n",
       "</style>\n",
       "<table border=\"1\" class=\"dataframe\">\n",
       "  <thead>\n",
       "    <tr style=\"text-align: right;\">\n",
       "      <th>cdi_split</th>\n",
       "      <th>0</th>\n",
       "      <th>1</th>\n",
       "    </tr>\n",
       "    <tr>\n",
       "      <th>target</th>\n",
       "      <th></th>\n",
       "      <th></th>\n",
       "    </tr>\n",
       "  </thead>\n",
       "  <tbody>\n",
       "    <tr>\n",
       "      <th>0.0</th>\n",
       "      <td>12264</td>\n",
       "      <td>1329</td>\n",
       "    </tr>\n",
       "    <tr>\n",
       "      <th>1.0</th>\n",
       "      <td>2584</td>\n",
       "      <td>1837</td>\n",
       "    </tr>\n",
       "  </tbody>\n",
       "</table>\n",
       "</div>"
      ],
      "text/plain": [
       "cdi_split      0     1\n",
       "target                \n",
       "0.0        12264  1329\n",
       "1.0         2584  1837"
      ]
     },
     "metadata": {},
     "output_type": "display_data"
    },
    {
     "name": "stdout",
     "output_type": "stream",
     "text": [
      "City development index (cdi) split: 0 = index more than 0.6 | 1 = index up to 0.6\n"
     ]
    }
   ],
   "source": [
    "crosstab = pd.crosstab(train_chi['target'], train_chi['cdi_split'])\n",
    "display(crosstab)\n",
    "print(\"City development index (cdi) split: 0 = index more than 0.6 | 1 = index up to 0.6\")"
   ]
  },
  {
   "cell_type": "code",
   "execution_count": 4,
   "id": "corporate-ministry",
   "metadata": {
    "hide_input": false,
    "scrolled": false
   },
   "outputs": [
    {
     "data": {
      "text/plain": [
       "(2322.8294951089388,\n",
       " 0.0,\n",
       " 1,\n",
       " array([[11204.0004441,  2388.9995559],\n",
       "        [ 3643.9995559,   777.0004441]]))"
      ]
     },
     "execution_count": 4,
     "metadata": {},
     "output_type": "execute_result"
    }
   ],
   "source": [
    "stats.chi2_contingency(crosstab)"
   ]
  },
  {
   "cell_type": "markdown",
   "id": "split-instrument",
   "metadata": {},
   "source": [
    "### Finding 2: Company size of current employer: no info\n",
    "***"
   ]
  },
  {
   "cell_type": "code",
   "execution_count": 5,
   "id": "working-prompt",
   "metadata": {
    "hide_input": false,
    "scrolled": true
   },
   "outputs": [
    {
     "data": {
      "text/html": [
       "<div>\n",
       "<style scoped>\n",
       "    .dataframe tbody tr th:only-of-type {\n",
       "        vertical-align: middle;\n",
       "    }\n",
       "\n",
       "    .dataframe tbody tr th {\n",
       "        vertical-align: top;\n",
       "    }\n",
       "\n",
       "    .dataframe thead th {\n",
       "        text-align: right;\n",
       "    }\n",
       "</style>\n",
       "<table border=\"1\" class=\"dataframe\">\n",
       "  <thead>\n",
       "    <tr style=\"text-align: right;\">\n",
       "      <th>company_size_split</th>\n",
       "      <th>0</th>\n",
       "      <th>1</th>\n",
       "    </tr>\n",
       "    <tr>\n",
       "      <th>target</th>\n",
       "      <th></th>\n",
       "      <th></th>\n",
       "    </tr>\n",
       "  </thead>\n",
       "  <tbody>\n",
       "    <tr>\n",
       "      <th>0.0</th>\n",
       "      <td>10489</td>\n",
       "      <td>3104</td>\n",
       "    </tr>\n",
       "    <tr>\n",
       "      <th>1.0</th>\n",
       "      <td>2215</td>\n",
       "      <td>2206</td>\n",
       "    </tr>\n",
       "  </tbody>\n",
       "</table>\n",
       "</div>"
      ],
      "text/plain": [
       "company_size_split      0     1\n",
       "target                         \n",
       "0.0                 10489  3104\n",
       "1.0                  2215  2206"
      ]
     },
     "metadata": {},
     "output_type": "display_data"
    },
    {
     "name": "stdout",
     "output_type": "stream",
     "text": [
      "Company size: 0 = not 10-49 employees | 1 = no info\n"
     ]
    }
   ],
   "source": [
    "crosstab = pd.crosstab(train_chi['target'], train_chi['company_size_split'])\n",
    "display(crosstab)\n",
    "print(\"Company size: 0 = not 10-49 employees | 1 = no info\")"
   ]
  },
  {
   "cell_type": "code",
   "execution_count": 6,
   "id": "parental-nightmare",
   "metadata": {
    "hide_input": false,
    "scrolled": false
   },
   "outputs": [
    {
     "data": {
      "text/plain": [
       "(1174.0306714640449,\n",
       " 2.6866438940695114e-257,\n",
       " 1,\n",
       " array([[9586.18141446, 4006.81858554],\n",
       "        [3117.81858554, 1303.18141446]]))"
      ]
     },
     "execution_count": 6,
     "metadata": {},
     "output_type": "execute_result"
    }
   ],
   "source": [
    "stats.chi2_contingency(crosstab)"
   ]
  },
  {
   "cell_type": "markdown",
   "id": "infrared-boundary",
   "metadata": {},
   "source": [
    "### Finding 3: Company type of current employer: Pvt Ltd\n",
    "***"
   ]
  },
  {
   "cell_type": "code",
   "execution_count": 7,
   "id": "finite-parks",
   "metadata": {
    "hide_input": false,
    "scrolled": true
   },
   "outputs": [
    {
     "data": {
      "text/html": [
       "<div>\n",
       "<style scoped>\n",
       "    .dataframe tbody tr th:only-of-type {\n",
       "        vertical-align: middle;\n",
       "    }\n",
       "\n",
       "    .dataframe tbody tr th {\n",
       "        vertical-align: top;\n",
       "    }\n",
       "\n",
       "    .dataframe thead th {\n",
       "        text-align: right;\n",
       "    }\n",
       "</style>\n",
       "<table border=\"1\" class=\"dataframe\">\n",
       "  <thead>\n",
       "    <tr style=\"text-align: right;\">\n",
       "      <th>company_type_split</th>\n",
       "      <th>0</th>\n",
       "      <th>1</th>\n",
       "    </tr>\n",
       "    <tr>\n",
       "      <th>target</th>\n",
       "      <th></th>\n",
       "      <th></th>\n",
       "    </tr>\n",
       "  </thead>\n",
       "  <tbody>\n",
       "    <tr>\n",
       "      <th>0.0</th>\n",
       "      <td>5792</td>\n",
       "      <td>7801</td>\n",
       "    </tr>\n",
       "    <tr>\n",
       "      <th>1.0</th>\n",
       "      <td>2747</td>\n",
       "      <td>1674</td>\n",
       "    </tr>\n",
       "  </tbody>\n",
       "</table>\n",
       "</div>"
      ],
      "text/plain": [
       "company_type_split     0     1\n",
       "target                        \n",
       "0.0                 5792  7801\n",
       "1.0                 2747  1674"
      ]
     },
     "metadata": {},
     "output_type": "display_data"
    },
    {
     "name": "stdout",
     "output_type": "stream",
     "text": [
      "Company type: 0 = not Pvt Ltd | 1 = Pvt Ltd\n"
     ]
    }
   ],
   "source": [
    "crosstab = pd.crosstab(train_chi['target'], train_chi['company_type_split'])\n",
    "display(crosstab)\n",
    "print(\"Company type: 0 = not Pvt Ltd | 1 = Pvt Ltd\")"
   ]
  },
  {
   "cell_type": "code",
   "execution_count": 8,
   "id": "documented-soviet",
   "metadata": {
    "hide_input": false,
    "scrolled": false
   },
   "outputs": [
    {
     "data": {
      "text/plain": [
       "(509.3063922690518,\n",
       " 8.976851603407026e-113,\n",
       " 1,\n",
       " array([[6443.35666704, 7149.64333296],\n",
       "        [2095.64333296, 2325.35666704]]))"
      ]
     },
     "execution_count": 8,
     "metadata": {},
     "output_type": "execute_result"
    }
   ],
   "source": [
    "stats.chi2_contingency(crosstab)"
   ]
  },
  {
   "cell_type": "markdown",
   "id": "brief-sleep",
   "metadata": {},
   "source": [
    "### Finding 4: Education level: Graduate\n",
    "***"
   ]
  },
  {
   "cell_type": "code",
   "execution_count": 9,
   "id": "funky-input",
   "metadata": {
    "hide_input": false
   },
   "outputs": [
    {
     "data": {
      "text/html": [
       "<div>\n",
       "<style scoped>\n",
       "    .dataframe tbody tr th:only-of-type {\n",
       "        vertical-align: middle;\n",
       "    }\n",
       "\n",
       "    .dataframe tbody tr th {\n",
       "        vertical-align: top;\n",
       "    }\n",
       "\n",
       "    .dataframe thead th {\n",
       "        text-align: right;\n",
       "    }\n",
       "</style>\n",
       "<table border=\"1\" class=\"dataframe\">\n",
       "  <thead>\n",
       "    <tr style=\"text-align: right;\">\n",
       "      <th>education_level_split_g</th>\n",
       "      <th>0</th>\n",
       "      <th>1</th>\n",
       "    </tr>\n",
       "    <tr>\n",
       "      <th>target</th>\n",
       "      <th></th>\n",
       "      <th></th>\n",
       "    </tr>\n",
       "  </thead>\n",
       "  <tbody>\n",
       "    <tr>\n",
       "      <th>0.0</th>\n",
       "      <td>5478</td>\n",
       "      <td>8115</td>\n",
       "    </tr>\n",
       "    <tr>\n",
       "      <th>1.0</th>\n",
       "      <td>1348</td>\n",
       "      <td>3073</td>\n",
       "    </tr>\n",
       "  </tbody>\n",
       "</table>\n",
       "</div>"
      ],
      "text/plain": [
       "education_level_split_g     0     1\n",
       "target                             \n",
       "0.0                      5478  8115\n",
       "1.0                      1348  3073"
      ]
     },
     "metadata": {},
     "output_type": "display_data"
    },
    {
     "name": "stdout",
     "output_type": "stream",
     "text": [
      "Education level: 0 = not Graduate | 1 = Graduate\n"
     ]
    }
   ],
   "source": [
    "crosstab = pd.crosstab(train_chi['target'], train_chi['education_level_split_g'])\n",
    "display(crosstab)\n",
    "print(\"Education level: 0 = not Graduate | 1 = Graduate\")"
   ]
  },
  {
   "cell_type": "code",
   "execution_count": 10,
   "id": "national-browse",
   "metadata": {
    "hide_input": false,
    "scrolled": false
   },
   "outputs": [
    {
     "data": {
      "text/plain": [
       "(135.98044987084796,\n",
       " 2.0150471087871705e-31,\n",
       " 1,\n",
       " array([[5150.76151882, 8442.23848118],\n",
       "        [1675.23848118, 2745.76151882]]))"
      ]
     },
     "execution_count": 10,
     "metadata": {},
     "output_type": "execute_result"
    }
   ],
   "source": [
    "stats.chi2_contingency(crosstab)"
   ]
  },
  {
   "cell_type": "markdown",
   "id": "linear-layer",
   "metadata": {},
   "source": [
    "### Finding 5: Relevant Experience in Data Science: experience\n",
    "***"
   ]
  },
  {
   "cell_type": "code",
   "execution_count": 11,
   "id": "expired-theology",
   "metadata": {
    "hide_input": false,
    "scrolled": true
   },
   "outputs": [
    {
     "data": {
      "text/html": [
       "<div>\n",
       "<style scoped>\n",
       "    .dataframe tbody tr th:only-of-type {\n",
       "        vertical-align: middle;\n",
       "    }\n",
       "\n",
       "    .dataframe tbody tr th {\n",
       "        vertical-align: top;\n",
       "    }\n",
       "\n",
       "    .dataframe thead th {\n",
       "        text-align: right;\n",
       "    }\n",
       "</style>\n",
       "<table border=\"1\" class=\"dataframe\">\n",
       "  <thead>\n",
       "    <tr style=\"text-align: right;\">\n",
       "      <th>relevant_experience_split</th>\n",
       "      <th>0</th>\n",
       "      <th>1</th>\n",
       "    </tr>\n",
       "    <tr>\n",
       "      <th>target</th>\n",
       "      <th></th>\n",
       "      <th></th>\n",
       "    </tr>\n",
       "  </thead>\n",
       "  <tbody>\n",
       "    <tr>\n",
       "      <th>0.0</th>\n",
       "      <td>10418</td>\n",
       "      <td>3175</td>\n",
       "    </tr>\n",
       "    <tr>\n",
       "      <th>1.0</th>\n",
       "      <td>2772</td>\n",
       "      <td>1649</td>\n",
       "    </tr>\n",
       "  </tbody>\n",
       "</table>\n",
       "</div>"
      ],
      "text/plain": [
       "relevant_experience_split      0     1\n",
       "target                                \n",
       "0.0                        10418  3175\n",
       "1.0                         2772  1649"
      ]
     },
     "metadata": {},
     "output_type": "display_data"
    },
    {
     "name": "stdout",
     "output_type": "stream",
     "text": [
      "Relevant experience: 0 = no experience in data science | 1 = experience in data science\n"
     ]
    }
   ],
   "source": [
    "crosstab = pd.crosstab(train_chi['target'], train_chi['relevant_experience_split'])\n",
    "display(crosstab)\n",
    "print(\"Relevant experience: 0 = no experience in data science | 1 = experience in data science\")"
   ]
  },
  {
   "cell_type": "code",
   "execution_count": 12,
   "id": "civic-questionnaire",
   "metadata": {
    "hide_input": false,
    "scrolled": true
   },
   "outputs": [
    {
     "data": {
      "text/plain": [
       "(329.97993304686355,\n",
       " 9.708630381245994e-74,\n",
       " 1,\n",
       " array([[9952.9071833, 3640.0928167],\n",
       "        [3237.0928167, 1183.9071833]]))"
      ]
     },
     "execution_count": 12,
     "metadata": {},
     "output_type": "execute_result"
    }
   ],
   "source": [
    "stats.chi2_contingency(crosstab)"
   ]
  },
  {
   "cell_type": "markdown",
   "id": "foreign-timeline",
   "metadata": {},
   "source": [
    "### Finding 6: Last job: 0 year between previous and current job\n",
    "***"
   ]
  },
  {
   "cell_type": "code",
   "execution_count": 13,
   "id": "solid-veteran",
   "metadata": {
    "hide_input": false,
    "scrolled": true
   },
   "outputs": [
    {
     "data": {
      "text/html": [
       "<div>\n",
       "<style scoped>\n",
       "    .dataframe tbody tr th:only-of-type {\n",
       "        vertical-align: middle;\n",
       "    }\n",
       "\n",
       "    .dataframe tbody tr th {\n",
       "        vertical-align: top;\n",
       "    }\n",
       "\n",
       "    .dataframe thead th {\n",
       "        text-align: right;\n",
       "    }\n",
       "</style>\n",
       "<table border=\"1\" class=\"dataframe\">\n",
       "  <thead>\n",
       "    <tr style=\"text-align: right;\">\n",
       "      <th>last_new_job_split</th>\n",
       "      <th>0</th>\n",
       "      <th>1</th>\n",
       "    </tr>\n",
       "    <tr>\n",
       "      <th>target</th>\n",
       "      <th></th>\n",
       "      <th></th>\n",
       "    </tr>\n",
       "  </thead>\n",
       "  <tbody>\n",
       "    <tr>\n",
       "      <th>0.0</th>\n",
       "      <td>12089</td>\n",
       "      <td>1504</td>\n",
       "    </tr>\n",
       "    <tr>\n",
       "      <th>1.0</th>\n",
       "      <td>3738</td>\n",
       "      <td>683</td>\n",
       "    </tr>\n",
       "  </tbody>\n",
       "</table>\n",
       "</div>"
      ],
      "text/plain": [
       "last_new_job_split      0     1\n",
       "target                         \n",
       "0.0                 12089  1504\n",
       "1.0                  3738   683"
      ]
     },
     "metadata": {},
     "output_type": "display_data"
    },
    {
     "name": "stdout",
     "output_type": "stream",
     "text": [
      "Last Job: 0 = not 1 year between previous and current job | 1 = 0 year between previous and current job\n"
     ]
    }
   ],
   "source": [
    "crosstab = pd.crosstab(train_chi['target'], train_chi['last_new_job_split'])\n",
    "display(crosstab)\n",
    "print(\"Last Job: 0 = not 1 year between previous and current job | 1 = 0 year between previous and current job\")"
   ]
  },
  {
   "cell_type": "code",
   "execution_count": 14,
   "id": "painful-compound",
   "metadata": {
    "hide_input": true,
    "scrolled": false
   },
   "outputs": [
    {
     "data": {
      "text/plain": [
       "(59.71170762876474,\n",
       " 1.0982128930576504e-14,\n",
       " 1,\n",
       " array([[11942.73404019,  1650.26595981],\n",
       "        [ 3884.26595981,   536.73404019]]))"
      ]
     },
     "execution_count": 14,
     "metadata": {},
     "output_type": "execute_result"
    }
   ],
   "source": [
    "stats.chi2_contingency(crosstab)"
   ]
  },
  {
   "cell_type": "markdown",
   "id": "dried-cleaner",
   "metadata": {},
   "source": [
    "### Finding 7: Work Experience: up to 5 years\n",
    "***"
   ]
  },
  {
   "cell_type": "code",
   "execution_count": 15,
   "id": "healthy-accordance",
   "metadata": {
    "hide_input": false
   },
   "outputs": [
    {
     "data": {
      "text/html": [
       "<div>\n",
       "<style scoped>\n",
       "    .dataframe tbody tr th:only-of-type {\n",
       "        vertical-align: middle;\n",
       "    }\n",
       "\n",
       "    .dataframe tbody tr th {\n",
       "        vertical-align: top;\n",
       "    }\n",
       "\n",
       "    .dataframe thead th {\n",
       "        text-align: right;\n",
       "    }\n",
       "</style>\n",
       "<table border=\"1\" class=\"dataframe\">\n",
       "  <thead>\n",
       "    <tr style=\"text-align: right;\">\n",
       "      <th>experience_split_5</th>\n",
       "      <th>0</th>\n",
       "      <th>1</th>\n",
       "    </tr>\n",
       "    <tr>\n",
       "      <th>target</th>\n",
       "      <th></th>\n",
       "      <th></th>\n",
       "    </tr>\n",
       "  </thead>\n",
       "  <tbody>\n",
       "    <tr>\n",
       "      <th>0.0</th>\n",
       "      <td>10735</td>\n",
       "      <td>2858</td>\n",
       "    </tr>\n",
       "    <tr>\n",
       "      <th>1.0</th>\n",
       "      <td>2835</td>\n",
       "      <td>1586</td>\n",
       "    </tr>\n",
       "  </tbody>\n",
       "</table>\n",
       "</div>"
      ],
      "text/plain": [
       "experience_split_5      0     1\n",
       "target                         \n",
       "0.0                 10735  2858\n",
       "1.0                  2835  1586"
      ]
     },
     "metadata": {},
     "output_type": "display_data"
    },
    {
     "name": "stdout",
     "output_type": "stream",
     "text": [
      "Experience split: 0 = work experience not more than 20 years | 1 = work experience up to 5 years\n"
     ]
    }
   ],
   "source": [
    "crosstab = pd.crosstab(train_chi['target'], train_chi['experience_split_5'])\n",
    "display(crosstab)\n",
    "print(\"Experience split: 0 = work experience not more than 20 years | 1 = work experience up to 5 years\")"
   ]
  },
  {
   "cell_type": "code",
   "execution_count": 16,
   "id": "affected-session",
   "metadata": {
    "hide_input": true,
    "scrolled": true
   },
   "outputs": [
    {
     "data": {
      "text/plain": [
       "(394.9956284387903,\n",
       " 6.766130893161576e-88,\n",
       " 1,\n",
       " array([[10239.64749639,  3353.35250361],\n",
       "        [ 3330.35250361,  1090.64749639]]))"
      ]
     },
     "execution_count": 16,
     "metadata": {},
     "output_type": "execute_result"
    }
   ],
   "source": [
    "stats.chi2_contingency(crosstab)"
   ]
  },
  {
   "cell_type": "markdown",
   "id": "electoral-consensus",
   "metadata": {},
   "source": [
    "### Finding 8: Work Experience: more than 20 years\n",
    "***"
   ]
  },
  {
   "cell_type": "code",
   "execution_count": 17,
   "id": "hundred-transaction",
   "metadata": {
    "hide_input": false
   },
   "outputs": [
    {
     "data": {
      "text/html": [
       "<div>\n",
       "<style scoped>\n",
       "    .dataframe tbody tr th:only-of-type {\n",
       "        vertical-align: middle;\n",
       "    }\n",
       "\n",
       "    .dataframe tbody tr th {\n",
       "        vertical-align: top;\n",
       "    }\n",
       "\n",
       "    .dataframe thead th {\n",
       "        text-align: right;\n",
       "    }\n",
       "</style>\n",
       "<table border=\"1\" class=\"dataframe\">\n",
       "  <thead>\n",
       "    <tr style=\"text-align: right;\">\n",
       "      <th>experience_split_20</th>\n",
       "      <th>0</th>\n",
       "      <th>1</th>\n",
       "    </tr>\n",
       "    <tr>\n",
       "      <th>target</th>\n",
       "      <th></th>\n",
       "      <th></th>\n",
       "    </tr>\n",
       "  </thead>\n",
       "  <tbody>\n",
       "    <tr>\n",
       "      <th>0.0</th>\n",
       "      <td>10897</td>\n",
       "      <td>2696</td>\n",
       "    </tr>\n",
       "    <tr>\n",
       "      <th>1.0</th>\n",
       "      <td>3935</td>\n",
       "      <td>486</td>\n",
       "    </tr>\n",
       "  </tbody>\n",
       "</table>\n",
       "</div>"
      ],
      "text/plain": [
       "experience_split_20      0     1\n",
       "target                          \n",
       "0.0                  10897  2696\n",
       "1.0                   3935   486"
      ]
     },
     "metadata": {},
     "output_type": "display_data"
    },
    {
     "name": "stdout",
     "output_type": "stream",
     "text": [
      "Experience split: 0 = work experience not more than 20 years | 1 = work experience more than 20 years\n"
     ]
    }
   ],
   "source": [
    "crosstab = pd.crosstab(train_chi['target'], train_chi['experience_split_20'])\n",
    "display(crosstab)\n",
    "print(\"Experience split: 0 = work experience not more than 20 years | 1 = work experience more than 20 years\")"
   ]
  },
  {
   "cell_type": "code",
   "execution_count": 18,
   "id": "unique-raleigh",
   "metadata": {
    "hide_input": true,
    "scrolled": true
   },
   "outputs": [
    {
     "data": {
      "text/plain": [
       "(178.6695377797575,\n",
       " 9.460629348890436e-41,\n",
       " 1,\n",
       " array([[11191.92716776,  2401.07283224],\n",
       "        [ 3640.07283224,   780.92716776]]))"
      ]
     },
     "execution_count": 18,
     "metadata": {},
     "output_type": "execute_result"
    }
   ],
   "source": [
    "stats.chi2_contingency(crosstab)"
   ]
  },
  {
   "cell_type": "markdown",
   "id": "colonial-defense",
   "metadata": {},
   "source": [
    "### Finding 9: Enrolled University: no course\n",
    "***"
   ]
  },
  {
   "cell_type": "code",
   "execution_count": 19,
   "id": "spanish-marsh",
   "metadata": {
    "hide_input": false,
    "scrolled": true
   },
   "outputs": [
    {
     "data": {
      "text/html": [
       "<div>\n",
       "<style scoped>\n",
       "    .dataframe tbody tr th:only-of-type {\n",
       "        vertical-align: middle;\n",
       "    }\n",
       "\n",
       "    .dataframe tbody tr th {\n",
       "        vertical-align: top;\n",
       "    }\n",
       "\n",
       "    .dataframe thead th {\n",
       "        text-align: right;\n",
       "    }\n",
       "</style>\n",
       "<table border=\"1\" class=\"dataframe\">\n",
       "  <thead>\n",
       "    <tr style=\"text-align: right;\">\n",
       "      <th>enrolled_university_split</th>\n",
       "      <th>0</th>\n",
       "      <th>1</th>\n",
       "    </tr>\n",
       "    <tr>\n",
       "      <th>target</th>\n",
       "      <th></th>\n",
       "      <th></th>\n",
       "    </tr>\n",
       "  </thead>\n",
       "  <tbody>\n",
       "    <tr>\n",
       "      <th>0.0</th>\n",
       "      <td>3051</td>\n",
       "      <td>10542</td>\n",
       "    </tr>\n",
       "    <tr>\n",
       "      <th>1.0</th>\n",
       "      <td>1615</td>\n",
       "      <td>2806</td>\n",
       "    </tr>\n",
       "  </tbody>\n",
       "</table>\n",
       "</div>"
      ],
      "text/plain": [
       "enrolled_university_split     0      1\n",
       "target                                \n",
       "0.0                        3051  10542\n",
       "1.0                        1615   2806"
      ]
     },
     "metadata": {},
     "output_type": "display_data"
    },
    {
     "name": "stdout",
     "output_type": "stream",
     "text": [
      "Enrolled University: 0 = no full time course at university | 1 = no course at university\n"
     ]
    }
   ],
   "source": [
    "crosstab = pd.crosstab(train_chi['target'], train_chi['enrolled_university_split'])\n",
    "display(crosstab)\n",
    "print(\"Enrolled University: 0 = no full time course at university | 1 = no course at university\")"
   ]
  },
  {
   "cell_type": "code",
   "execution_count": 20,
   "id": "pregnant-martin",
   "metadata": {
    "hide_input": true,
    "scrolled": true
   },
   "outputs": [
    {
     "data": {
      "text/plain": [
       "(344.08275774296783,\n",
       " 8.236334285791009e-77,\n",
       " 1,\n",
       " array([[ 3520.86921283, 10072.13078717],\n",
       "        [ 1145.13078717,  3275.86921283]]))"
      ]
     },
     "execution_count": 20,
     "metadata": {},
     "output_type": "execute_result"
    }
   ],
   "source": [
    "stats.chi2_contingency(crosstab)"
   ]
  },
  {
   "cell_type": "markdown",
   "id": "absolute-manner",
   "metadata": {},
   "source": [
    "### Finding 10: Education level: High School\n",
    "***"
   ]
  },
  {
   "cell_type": "code",
   "execution_count": 21,
   "id": "oriented-shield",
   "metadata": {
    "hide_input": false
   },
   "outputs": [
    {
     "data": {
      "text/html": [
       "<div>\n",
       "<style scoped>\n",
       "    .dataframe tbody tr th:only-of-type {\n",
       "        vertical-align: middle;\n",
       "    }\n",
       "\n",
       "    .dataframe tbody tr th {\n",
       "        vertical-align: top;\n",
       "    }\n",
       "\n",
       "    .dataframe thead th {\n",
       "        text-align: right;\n",
       "    }\n",
       "</style>\n",
       "<table border=\"1\" class=\"dataframe\">\n",
       "  <thead>\n",
       "    <tr style=\"text-align: right;\">\n",
       "      <th>education_level_split_h</th>\n",
       "      <th>0</th>\n",
       "      <th>1</th>\n",
       "    </tr>\n",
       "    <tr>\n",
       "      <th>target</th>\n",
       "      <th></th>\n",
       "      <th></th>\n",
       "    </tr>\n",
       "  </thead>\n",
       "  <tbody>\n",
       "    <tr>\n",
       "      <th>0.0</th>\n",
       "      <td>12057</td>\n",
       "      <td>1536</td>\n",
       "    </tr>\n",
       "    <tr>\n",
       "      <th>1.0</th>\n",
       "      <td>4049</td>\n",
       "      <td>372</td>\n",
       "    </tr>\n",
       "  </tbody>\n",
       "</table>\n",
       "</div>"
      ],
      "text/plain": [
       "education_level_split_h      0     1\n",
       "target                              \n",
       "0.0                      12057  1536\n",
       "1.0                       4049   372"
      ]
     },
     "metadata": {},
     "output_type": "display_data"
    },
    {
     "name": "stdout",
     "output_type": "stream",
     "text": [
      "Education level: 0 = not Graduate | 1 = High School\n"
     ]
    }
   ],
   "source": [
    "crosstab = pd.crosstab(train_chi['target'], train_chi['education_level_split_h'])\n",
    "display(crosstab)\n",
    "print(\"Education level: 0 = not Graduate | 1 = High School\")"
   ]
  },
  {
   "cell_type": "code",
   "execution_count": 22,
   "id": "scenic-journal",
   "metadata": {
    "hide_input": true,
    "scrolled": false
   },
   "outputs": [
    {
     "data": {
      "text/plain": [
       "(29.02773481966645,\n",
       " 7.134944157700591e-08,\n",
       " 1,\n",
       " array([[12153.26179638,  1439.73820362],\n",
       "        [ 3952.73820362,   468.26179638]]))"
      ]
     },
     "execution_count": 22,
     "metadata": {},
     "output_type": "execute_result"
    }
   ],
   "source": [
    "stats.chi2_contingency(crosstab)"
   ]
  },
  {
   "cell_type": "markdown",
   "id": "photographic-evaluation",
   "metadata": {},
   "source": [
    "Variable name | Chi<sup>2</sup> value | p-value | significant?\n",
    ":--- | ---: | ---: | ---:\n",
    "1. City development Index: more than 0.6 | 2322.83 | < .001 | significant\n",
    "2. Company size: no info | 1174.03 |  < .001 | significant\n",
    "3. Company type of current employer: Pvt Ltd | 509.31 | < .001 | significant\n",
    "4. Education level: Graduate | 135.98 |  < .001 | significant\n",
    "5. Relevant Experience in Data Science: has experience | 329.98 | < .001 | significant\n",
    "6. Last job: 0 year between previous and current job | 59.71 | < .001 | significant\n",
    "7. Work Experience: up to 5 years | 395.00 | < .001 | significant\n",
    "8. Work Experience: more than 20 years | 178.6 | < .001 | significant\n",
    "9. Enrolled University: no course | 344.08 | < .001 | significant\n",
    "10. Education level: Graduate |  29.03|   < .001 | significant"
   ]
  },
  {
   "cell_type": "code",
   "execution_count": null,
   "id": "through-concord",
   "metadata": {},
   "outputs": [],
   "source": []
  }
 ],
 "metadata": {
  "hide_input": false,
  "kernelspec": {
   "display_name": "Python 3",
   "language": "python",
   "name": "python3"
  },
  "language_info": {
   "codemirror_mode": {
    "name": "ipython",
    "version": 3
   },
   "file_extension": ".py",
   "mimetype": "text/x-python",
   "name": "python",
   "nbconvert_exporter": "python",
   "pygments_lexer": "ipython3",
   "version": "3.9.2"
  },
  "toc": {
   "base_numbering": 1,
   "nav_menu": {},
   "number_sections": true,
   "sideBar": true,
   "skip_h1_title": false,
   "title_cell": "Table of Contents",
   "title_sidebar": "Contents",
   "toc_cell": false,
   "toc_position": {},
   "toc_section_display": true,
   "toc_window_display": false
  },
  "varInspector": {
   "cols": {
    "lenName": 16,
    "lenType": 16,
    "lenVar": 40
   },
   "kernels_config": {
    "python": {
     "delete_cmd_postfix": "",
     "delete_cmd_prefix": "del ",
     "library": "var_list.py",
     "varRefreshCmd": "print(var_dic_list())"
    },
    "r": {
     "delete_cmd_postfix": ") ",
     "delete_cmd_prefix": "rm(",
     "library": "var_list.r",
     "varRefreshCmd": "cat(var_dic_list()) "
    }
   },
   "oldHeight": 201,
   "position": {
    "height": "223px",
    "left": "789px",
    "right": "20px",
    "top": "130px",
    "width": "563px"
   },
   "types_to_exclude": [
    "module",
    "function",
    "builtin_function_or_method",
    "instance",
    "_Feature"
   ],
   "varInspector_section_display": "block",
   "window_display": false
  }
 },
 "nbformat": 4,
 "nbformat_minor": 5
}
